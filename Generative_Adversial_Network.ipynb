{
  "nbformat": 4,
  "nbformat_minor": 0,
  "metadata": {
    "colab": {
      "provenance": []
    },
    "kernelspec": {
      "name": "python3",
      "display_name": "Python 3"
    },
    "language_info": {
      "name": "python"
    },
    "accelerator": "GPU",
    "gpuClass": "standard"
  },
  "cells": [
    {
      "cell_type": "code",
      "execution_count": 24,
      "metadata": {
        "id": "WjQ3LhFgz2ld"
      },
      "outputs": [],
      "source": [
        "import numpy as np\n",
        "import pandas as pd\n",
        "from tensorflow.keras.datasets import mnist"
      ]
    },
    {
      "cell_type": "code",
      "source": [
        "(X_train,y_train),(X_test,y_test) = mnist.load_data()"
      ],
      "metadata": {
        "id": "S-o3ukeP0PUG"
      },
      "execution_count": 25,
      "outputs": []
    },
    {
      "cell_type": "code",
      "source": [
        "import matplotlib.pyplot as plt"
      ],
      "metadata": {
        "id": "lwBISEh80NMF"
      },
      "execution_count": 26,
      "outputs": []
    },
    {
      "cell_type": "code",
      "source": [
        "plt.imshow(X_train[0])"
      ],
      "metadata": {
        "colab": {
          "base_uri": "https://localhost:8080/",
          "height": 282
        },
        "id": "h-hPYxqX0imR",
        "outputId": "3e5e4476-a8b1-4320-9483-dc253ae28998"
      },
      "execution_count": 27,
      "outputs": [
        {
          "output_type": "execute_result",
          "data": {
            "text/plain": [
              "<matplotlib.image.AxesImage at 0x7f765068c490>"
            ]
          },
          "metadata": {},
          "execution_count": 27
        },
        {
          "output_type": "display_data",
          "data": {
            "text/plain": [
              "<Figure size 432x288 with 1 Axes>"
            ],
            "image/png": "[encoded data removed]"
          },
          "metadata": {
            "needs_background": "light"
          }
        }
      ]
    },
    {
      "cell_type": "code",
      "source": [
        "y_train[0]"
      ],
      "metadata": {
        "colab": {
          "base_uri": "https://localhost:8080/"
        },
        "id": "o4iGZkdh0ko7",
        "outputId": "89320329-9fb5-41b5-eb53-030900c6c468"
      },
      "execution_count": 28,
      "outputs": [
        {
          "output_type": "execute_result",
          "data": {
            "text/plain": [
              "5"
            ]
          },
          "metadata": {},
          "execution_count": 28
        }
      ]
    },
    {
      "cell_type": "code",
      "source": [
        "#filter the data so it can run faster \n"
      ],
      "metadata": {
        "id": "Y-0Yky740nv6"
      },
      "execution_count": 29,
      "outputs": []
    },
    {
      "cell_type": "code",
      "source": [
        "only_zeros = X_train[y_train==0]"
      ],
      "metadata": {
        "id": "lo3h5JeM0til"
      },
      "execution_count": 30,
      "outputs": []
    },
    {
      "cell_type": "code",
      "source": [
        "only_zeros.shape"
      ],
      "metadata": {
        "colab": {
          "base_uri": "https://localhost:8080/"
        },
        "id": "HTG-QD-102qN",
        "outputId": "8a69bfd6-68e8-4d61-8196-5da6b1244884"
      },
      "execution_count": 31,
      "outputs": [
        {
          "output_type": "execute_result",
          "data": {
            "text/plain": [
              "(5923, 28, 28)"
            ]
          },
          "metadata": {},
          "execution_count": 31
        }
      ]
    },
    {
      "cell_type": "code",
      "source": [
        "import tensorflow as tf\n",
        "from tensorflow.keras.layers import Dense, Reshape,Flatten\n",
        "from tensorflow.keras.models import Sequential"
      ],
      "metadata": {
        "id": "FJetjRx31T2A"
      },
      "execution_count": 32,
      "outputs": []
    },
    {
      "cell_type": "code",
      "source": [
        "coding_size=100\n",
        "generator = Sequential()\n",
        "generator.add(Dense(100,activation='relu',input_shape=[coding_size]))\n",
        "generator.add(Dense(150,activation='relu'))\n",
        "generator.add(Dense(784,activation='relu'))\n",
        "generator.add(Reshape([28,28]))\n",
        "\n"
      ],
      "metadata": {
        "id": "VcTIm_2A2ZOo"
      },
      "execution_count": 33,
      "outputs": []
    },
    {
      "cell_type": "code",
      "source": [
        "discriminator = Sequential()\n",
        "discriminator.add(Flatten(input_shape=[28,28]))\n",
        "discriminator.add(Dense(150,activation='relu'))\n",
        "discriminator.add(Dense(100,activation='relu'))\n",
        "#final output\n",
        "discriminator.add(Dense(1,activation = 'sigmoid'))\n",
        "discriminator.compile(loss='binary_crossentropy',optimizer='adam')"
      ],
      "metadata": {
        "id": "465rJt7y05Eu"
      },
      "execution_count": 34,
      "outputs": []
    },
    {
      "cell_type": "code",
      "source": [
        "GAN = Sequential([generator,discriminator])\n"
      ],
      "metadata": {
        "id": "6VNhuRE4KNkb"
      },
      "execution_count": 35,
      "outputs": []
    },
    {
      "cell_type": "code",
      "source": [
        "discriminator.trainable = False"
      ],
      "metadata": {
        "id": "bwpwU6s0KZIx"
      },
      "execution_count": 36,
      "outputs": []
    },
    {
      "cell_type": "code",
      "source": [
        "GAN.compile(loss='binary_crossentropy',optimizer='adam')"
      ],
      "metadata": {
        "id": "ih0MNcOuKZFF"
      },
      "execution_count": 37,
      "outputs": []
    },
    {
      "cell_type": "code",
      "source": [
        "batch_size=32"
      ],
      "metadata": {
        "id": "Vve3faPVKZA_"
      },
      "execution_count": 38,
      "outputs": []
    },
    {
      "cell_type": "code",
      "source": [
        "my_data = only_zeros"
      ],
      "metadata": {
        "id": "Bif_l9K2Pp21"
      },
      "execution_count": 39,
      "outputs": []
    },
    {
      "cell_type": "code",
      "source": [
        "dataset = tf.data.Dataset.from_tensor_slices(my_data).shuffle(buffer_size=1000)\n"
      ],
      "metadata": {
        "id": "C50qsseLOaGH"
      },
      "execution_count": 40,
      "outputs": []
    },
    {
      "cell_type": "code",
      "source": [
        "dataset = dataset.batch(batch_size,drop_remainder = True).prefetch(1)"
      ],
      "metadata": {
        "id": "JLPUAAWiOodO"
      },
      "execution_count": 41,
      "outputs": []
    },
    {
      "cell_type": "code",
      "source": [
        "epochs = 100"
      ],
      "metadata": {
        "id": "WZWoKSSLOoZl"
      },
      "execution_count": 63,
      "outputs": []
    },
    {
      "cell_type": "code",
      "source": [
        "GAN.layers"
      ],
      "metadata": {
        "colab": {
          "base_uri": "https://localhost:8080/"
        },
        "id": "CDwLX9Y8OoXG",
        "outputId": "5a7e283d-28b1-498b-8241-9395034f3dc1"
      },
      "execution_count": 43,
      "outputs": [
        {
          "output_type": "execute_result",
          "data": {
            "text/plain": [
              "[<keras.engine.sequential.Sequential at 0x7f76506de820>,\n",
              " <keras.engine.sequential.Sequential at 0x7f76506414c0>]"
            ]
          },
          "metadata": {},
          "execution_count": 43
        }
      ]
    },
    {
      "cell_type": "code",
      "source": [
        "GAN.layers[0].layers"
      ],
      "metadata": {
        "colab": {
          "base_uri": "https://localhost:8080/"
        },
        "id": "1TxqcF-9OZpc",
        "outputId": "29d53857-6ff8-4848-91c9-8b99f2e8458f"
      },
      "execution_count": 44,
      "outputs": [
        {
          "output_type": "execute_result",
          "data": {
            "text/plain": [
              "[<keras.layers.core.dense.Dense at 0x7f76506de4f0>,\n",
              " <keras.layers.core.dense.Dense at 0x7f76ca4a5790>,\n",
              " <keras.layers.core.dense.Dense at 0x7f76ca937970>,\n",
              " <keras.layers.reshaping.reshape.Reshape at 0x7f76506debe0>]"
            ]
          },
          "metadata": {},
          "execution_count": 44
        }
      ]
    },
    {
      "cell_type": "code",
      "source": [
        "GAN.layers[1].summary()"
      ],
      "metadata": {
        "colab": {
          "base_uri": "https://localhost:8080/"
        },
        "id": "Dffra2-KOZmR",
        "outputId": "dd0de593-d1e3-4201-eb9b-97e88a4e5b78"
      },
      "execution_count": 45,
      "outputs": [
        {
          "output_type": "stream",
          "name": "stdout",
          "text": [
            "Model: \"sequential_4\"\n",
            "_________________________________________________________________\n",
            " Layer (type)                Output Shape              Param #   \n",
            "=================================================================\n",
            " flatten_1 (Flatten)         (None, 784)               0         \n",
            "                                                                 \n",
            " dense_9 (Dense)             (None, 150)               117750    \n",
            "                                                                 \n",
            " dense_10 (Dense)            (None, 100)               15100     \n",
            "                                                                 \n",
            " dense_11 (Dense)            (None, 1)                 101       \n",
            "                                                                 \n",
            "=================================================================\n",
            "Total params: 132,951\n",
            "Trainable params: 0\n",
            "Non-trainable params: 132,951\n",
            "_________________________________________________________________\n"
          ]
        }
      ]
    },
    {
      "cell_type": "code",
      "source": [
        "generator, discriminator = GAN.layers\n",
        "for epoch in range(epochs):\n",
        "    print(f\"Currently on Epoch {epoch+1}\")\n",
        "    i = 0\n",
        "    for X_batch in dataset:\n",
        "        i=i+1\n",
        "        if i%100 == 0:\n",
        "            print(f\"\\tCurrently on batch number {i} of {len(my_data)//batch_size}\")\n",
        "        # Create Noise\n",
        "        noise = tf.random.normal(shape=[batch_size, coding_size])\n",
        "        \n",
        "        \n",
        "        gen_images = generator(noise)\n",
        "        \n",
        "        # Concatenate Generated Images against the Real Ones\n",
        "        # TO use tf.concat, the data types must match!\n",
        "        X_fake_vs_real = tf.concat([gen_images, tf.dtypes.cast(X_batch,tf.float32)], axis=0)\n",
        "        \n",
        "        # Targets set to zero for fake images and 1 for real images\n",
        "        y1 = tf.constant([[0.]] * batch_size + [[1.]] * batch_size)\n",
        "        \n",
        "        discriminator.trainable = True\n",
        "        \n",
        "        # Train the discriminator on this batch\n",
        "        discriminator.train_on_batch(X_fake_vs_real, y1)\n",
        "        \n",
        "        # Create some noise\n",
        "        noise = tf.random.normal(shape=[batch_size, coding_size])\n",
        "        \n",
        "        # We want discriminator to belive that fake images are real\n",
        "        y2 = tf.constant([[1.]] * batch_size)\n",
        "        discriminator.trainable = False\n",
        "        \n",
        "        GAN.train_on_batch(noise, y2)\n",
        "        \n",
        "print(\"TRAINING COMPLETE\")            "
      ],
      "metadata": {
        "colab": {
          "base_uri": "https://localhost:8080/"
        },
        "id": "fi_O8jHOTOQt",
        "outputId": "22be8307-d689-4c4b-deee-ed75c21c61f6"
      },
      "execution_count": 64,
      "outputs": [
        {
          "output_type": "stream",
          "name": "stdout",
          "text": [
            "Currently on Epoch 1\n",
            "\tCurrently on batch number 100 of 185\n",
            "Currently on Epoch 2\n",
            "\tCurrently on batch number 100 of 185\n",
            "Currently on Epoch 3\n",
            "\tCurrently on batch number 100 of 185\n",
            "Currently on Epoch 4\n",
            "\tCurrently on batch number 100 of 185\n",
            "Currently on Epoch 5\n",
            "\tCurrently on batch number 100 of 185\n",
            "Currently on Epoch 6\n",
            "\tCurrently on batch number 100 of 185\n",
            "Currently on Epoch 7\n",
            "\tCurrently on batch number 100 of 185\n",
            "Currently on Epoch 8\n",
            "\tCurrently on batch number 100 of 185\n",
            "Currently on Epoch 9\n",
            "\tCurrently on batch number 100 of 185\n",
            "Currently on Epoch 10\n",
            "\tCurrently on batch number 100 of 185\n",
            "Currently on Epoch 11\n",
            "\tCurrently on batch number 100 of 185\n",
            "Currently on Epoch 12\n",
            "\tCurrently on batch number 100 of 185\n",
            "Currently on Epoch 13\n",
            "\tCurrently on batch number 100 of 185\n",
            "Currently on Epoch 14\n",
            "\tCurrently on batch number 100 of 185\n",
            "Currently on Epoch 15\n",
            "\tCurrently on batch number 100 of 185\n",
            "Currently on Epoch 16\n",
            "\tCurrently on batch number 100 of 185\n",
            "Currently on Epoch 17\n",
            "\tCurrently on batch number 100 of 185\n",
            "Currently on Epoch 18\n",
            "\tCurrently on batch number 100 of 185\n",
            "Currently on Epoch 19\n",
            "\tCurrently on batch number 100 of 185\n",
            "Currently on Epoch 20\n",
            "\tCurrently on batch number 100 of 185\n",
            "Currently on Epoch 21\n",
            "\tCurrently on batch number 100 of 185\n",
            "Currently on Epoch 22\n",
            "\tCurrently on batch number 100 of 185\n",
            "Currently on Epoch 23\n",
            "\tCurrently on batch number 100 of 185\n",
            "Currently on Epoch 24\n",
            "\tCurrently on batch number 100 of 185\n",
            "Currently on Epoch 25\n",
            "\tCurrently on batch number 100 of 185\n",
            "Currently on Epoch 26\n",
            "\tCurrently on batch number 100 of 185\n",
            "Currently on Epoch 27\n",
            "\tCurrently on batch number 100 of 185\n",
            "Currently on Epoch 28\n",
            "\tCurrently on batch number 100 of 185\n",
            "Currently on Epoch 29\n",
            "\tCurrently on batch number 100 of 185\n",
            "Currently on Epoch 30\n",
            "\tCurrently on batch number 100 of 185\n",
            "Currently on Epoch 31\n",
            "\tCurrently on batch number 100 of 185\n",
            "Currently on Epoch 32\n",
            "\tCurrently on batch number 100 of 185\n",
            "Currently on Epoch 33\n",
            "\tCurrently on batch number 100 of 185\n",
            "Currently on Epoch 34\n",
            "\tCurrently on batch number 100 of 185\n",
            "Currently on Epoch 35\n",
            "\tCurrently on batch number 100 of 185\n",
            "Currently on Epoch 36\n",
            "\tCurrently on batch number 100 of 185\n",
            "Currently on Epoch 37\n",
            "\tCurrently on batch number 100 of 185\n",
            "Currently on Epoch 38\n",
            "\tCurrently on batch number 100 of 185\n",
            "Currently on Epoch 39\n",
            "\tCurrently on batch number 100 of 185\n",
            "Currently on Epoch 40\n",
            "\tCurrently on batch number 100 of 185\n",
            "Currently on Epoch 41\n",
            "\tCurrently on batch number 100 of 185\n",
            "Currently on Epoch 42\n",
            "\tCurrently on batch number 100 of 185\n",
            "Currently on Epoch 43\n",
            "\tCurrently on batch number 100 of 185\n",
            "Currently on Epoch 44\n",
            "\tCurrently on batch number 100 of 185\n",
            "Currently on Epoch 45\n",
            "\tCurrently on batch number 100 of 185\n",
            "Currently on Epoch 46\n",
            "\tCurrently on batch number 100 of 185\n",
            "Currently on Epoch 47\n",
            "\tCurrently on batch number 100 of 185\n",
            "Currently on Epoch 48\n",
            "\tCurrently on batch number 100 of 185\n",
            "Currently on Epoch 49\n",
            "\tCurrently on batch number 100 of 185\n",
            "Currently on Epoch 50\n",
            "\tCurrently on batch number 100 of 185\n",
            "Currently on Epoch 51\n",
            "\tCurrently on batch number 100 of 185\n",
            "Currently on Epoch 52\n",
            "\tCurrently on batch number 100 of 185\n",
            "Currently on Epoch 53\n",
            "\tCurrently on batch number 100 of 185\n",
            "Currently on Epoch 54\n",
            "\tCurrently on batch number 100 of 185\n",
            "Currently on Epoch 55\n",
            "\tCurrently on batch number 100 of 185\n",
            "Currently on Epoch 56\n",
            "\tCurrently on batch number 100 of 185\n",
            "Currently on Epoch 57\n",
            "\tCurrently on batch number 100 of 185\n",
            "Currently on Epoch 58\n",
            "\tCurrently on batch number 100 of 185\n",
            "Currently on Epoch 59\n",
            "\tCurrently on batch number 100 of 185\n",
            "Currently on Epoch 60\n",
            "\tCurrently on batch number 100 of 185\n",
            "Currently on Epoch 61\n",
            "\tCurrently on batch number 100 of 185\n",
            "Currently on Epoch 62\n",
            "\tCurrently on batch number 100 of 185\n",
            "Currently on Epoch 63\n",
            "\tCurrently on batch number 100 of 185\n",
            "Currently on Epoch 64\n",
            "\tCurrently on batch number 100 of 185\n",
            "Currently on Epoch 65\n",
            "\tCurrently on batch number 100 of 185\n",
            "Currently on Epoch 66\n",
            "\tCurrently on batch number 100 of 185\n",
            "Currently on Epoch 67\n",
            "\tCurrently on batch number 100 of 185\n",
            "Currently on Epoch 68\n",
            "\tCurrently on batch number 100 of 185\n",
            "Currently on Epoch 69\n",
            "\tCurrently on batch number 100 of 185\n",
            "Currently on Epoch 70\n",
            "\tCurrently on batch number 100 of 185\n",
            "Currently on Epoch 71\n",
            "\tCurrently on batch number 100 of 185\n",
            "Currently on Epoch 72\n",
            "\tCurrently on batch number 100 of 185\n",
            "Currently on Epoch 73\n",
            "\tCurrently on batch number 100 of 185\n",
            "Currently on Epoch 74\n",
            "\tCurrently on batch number 100 of 185\n",
            "Currently on Epoch 75\n",
            "\tCurrently on batch number 100 of 185\n",
            "Currently on Epoch 76\n",
            "\tCurrently on batch number 100 of 185\n",
            "Currently on Epoch 77\n",
            "\tCurrently on batch number 100 of 185\n",
            "Currently on Epoch 78\n",
            "\tCurrently on batch number 100 of 185\n",
            "Currently on Epoch 79\n",
            "\tCurrently on batch number 100 of 185\n",
            "Currently on Epoch 80\n",
            "\tCurrently on batch number 100 of 185\n",
            "Currently on Epoch 81\n",
            "\tCurrently on batch number 100 of 185\n",
            "Currently on Epoch 82\n",
            "\tCurrently on batch number 100 of 185\n",
            "Currently on Epoch 83\n",
            "\tCurrently on batch number 100 of 185\n",
            "Currently on Epoch 84\n",
            "\tCurrently on batch number 100 of 185\n",
            "Currently on Epoch 85\n",
            "\tCurrently on batch number 100 of 185\n",
            "Currently on Epoch 86\n",
            "\tCurrently on batch number 100 of 185\n",
            "Currently on Epoch 87\n",
            "\tCurrently on batch number 100 of 185\n",
            "Currently on Epoch 88\n",
            "\tCurrently on batch number 100 of 185\n",
            "Currently on Epoch 89\n",
            "\tCurrently on batch number 100 of 185\n",
            "Currently on Epoch 90\n",
            "\tCurrently on batch number 100 of 185\n",
            "Currently on Epoch 91\n",
            "\tCurrently on batch number 100 of 185\n",
            "Currently on Epoch 92\n",
            "\tCurrently on batch number 100 of 185\n",
            "Currently on Epoch 93\n",
            "\tCurrently on batch number 100 of 185\n",
            "Currently on Epoch 94\n",
            "\tCurrently on batch number 100 of 185\n",
            "Currently on Epoch 95\n",
            "\tCurrently on batch number 100 of 185\n",
            "Currently on Epoch 96\n",
            "\tCurrently on batch number 100 of 185\n",
            "Currently on Epoch 97\n",
            "\tCurrently on batch number 100 of 185\n",
            "Currently on Epoch 98\n",
            "\tCurrently on batch number 100 of 185\n",
            "Currently on Epoch 99\n",
            "\tCurrently on batch number 100 of 185\n",
            "Currently on Epoch 100\n",
            "\tCurrently on batch number 100 of 185\n",
            "TRAINING COMPLETE\n"
          ]
        }
      ]
    },
    {
      "cell_type": "code",
      "source": [
        "noise = tf.random.normal(shape=[10,coding_size])\n",
        "\n"
      ],
      "metadata": {
        "id": "PXUGma9hOZfa"
      },
      "execution_count": 47,
      "outputs": []
    },
    {
      "cell_type": "code",
      "source": [
        "noise.shape"
      ],
      "metadata": {
        "colab": {
          "base_uri": "https://localhost:8080/"
        },
        "id": "kYhk1sHsOZai",
        "outputId": "436368a7-c0c5-43b1-ee84-2b0c61048d3b"
      },
      "execution_count": 48,
      "outputs": [
        {
          "output_type": "execute_result",
          "data": {
            "text/plain": [
              "TensorShape([10, 100])"
            ]
          },
          "metadata": {},
          "execution_count": 48
        }
      ]
    },
    {
      "cell_type": "code",
      "source": [
        "plt.imshow(noise)"
      ],
      "metadata": {
        "colab": {
          "base_uri": "https://localhost:8080/",
          "height": 101
        },
        "id": "y9ajWpc-OZWs",
        "outputId": "279a539d-f953-4c8c-dad5-165982ef13bf"
      },
      "execution_count": 49,
      "outputs": [
        {
          "output_type": "execute_result",
          "data": {
            "text/plain": [
              "<matplotlib.image.AxesImage at 0x7f76cc9b9e50>"
            ]
          },
          "metadata": {},
          "execution_count": 49
        },
        {
          "output_type": "display_data",
          "data": {
            "text/plain": [
              "<Figure size 432x288 with 1 Axes>"
            ],
            "image/png": "[encoded data removed]"
          },
          "metadata": {
            "needs_background": "light"
          }
        }
      ]
    },
    {
      "cell_type": "markdown",
      "source": [
        "**This is the result of the GAN trained on only 2 epochs**"
      ],
      "metadata": {
        "id": "LaUyOgSuY7Cl"
      }
    },
    {
      "cell_type": "code",
      "source": [
        "images = generator(noise)"
      ],
      "metadata": {
        "id": "RHMX594zYdSK"
      },
      "execution_count": 50,
      "outputs": []
    },
    {
      "cell_type": "code",
      "source": [
        "images.shape"
      ],
      "metadata": {
        "colab": {
          "base_uri": "https://localhost:8080/"
        },
        "id": "nniWnd8UYjLX",
        "outputId": "7f0e6f7e-78fd-43b1-cd56-93463876d794"
      },
      "execution_count": 51,
      "outputs": [
        {
          "output_type": "execute_result",
          "data": {
            "text/plain": [
              "TensorShape([10, 28, 28])"
            ]
          },
          "metadata": {},
          "execution_count": 51
        }
      ]
    },
    {
      "cell_type": "code",
      "source": [
        "plt.imshow(images[8])"
      ],
      "metadata": {
        "colab": {
          "base_uri": "https://localhost:8080/",
          "height": 282
        },
        "id": "kvL5MMsyYkeT",
        "outputId": "694ad292-866f-402e-84be-9a59226d653d"
      },
      "execution_count": 54,
      "outputs": [
        {
          "output_type": "execute_result",
          "data": {
            "text/plain": [
              "<matplotlib.image.AxesImage at 0x7f76cc85f2b0>"
            ]
          },
          "metadata": {},
          "execution_count": 54
        },
        {
          "output_type": "display_data",
          "data": {
            "text/plain": [
              "<Figure size 432x288 with 1 Axes>"
            ],
            "image/png": "[encoded data removed]"
          },
          "metadata": {
            "needs_background": "light"
          }
        }
      ]
    },
    {
      "cell_type": "markdown",
      "source": [
        "**This is the result after gan is trained on 30 epochs**"
      ],
      "metadata": {
        "id": "A_8Yp0urZIxV"
      }
    },
    {
      "cell_type": "code",
      "source": [
        "images2 = generator(noise)"
      ],
      "metadata": {
        "id": "np6cQaE7ZH6J"
      },
      "execution_count": 61,
      "outputs": []
    },
    {
      "cell_type": "code",
      "source": [
        "plt.imshow(images2[0])"
      ],
      "metadata": {
        "colab": {
          "base_uri": "https://localhost:8080/",
          "height": 282
        },
        "id": "IiYUYlAqYoqN",
        "outputId": "84207010-6fd8-4ec1-f855-6f1ceab108ba"
      },
      "execution_count": 62,
      "outputs": [
        {
          "output_type": "execute_result",
          "data": {
            "text/plain": [
              "<matplotlib.image.AxesImage at 0x7f76cc73ec40>"
            ]
          },
          "metadata": {},
          "execution_count": 62
        },
        {
          "output_type": "display_data",
          "data": {
            "text/plain": [
              "<Figure size 432x288 with 1 Axes>"
            ],
            "image/png": "[encoded data removed]"
          },
          "metadata": {
            "needs_background": "light"
          }
        }
      ]
    },
    {
      "cell_type": "markdown",
      "source": [
        "**Pretty Impresive !!! I will try for 100 epochs**"
      ],
      "metadata": {
        "id": "vnoOo5TjZ_sI"
      }
    },
    {
      "cell_type": "code",
      "source": [
        "images3=generator(noise)"
      ],
      "metadata": {
        "id": "QX_sTE9wZZWg"
      },
      "execution_count": 65,
      "outputs": []
    },
    {
      "cell_type": "code",
      "source": [
        "plt.imshow(images3[0])"
      ],
      "metadata": {
        "colab": {
          "base_uri": "https://localhost:8080/",
          "height": 282
        },
        "id": "cXoKld_IaaV7",
        "outputId": "1116e753-5f82-40c0-ad0f-7294a4d754e5"
      },
      "execution_count": 66,
      "outputs": [
        {
          "output_type": "execute_result",
          "data": {
            "text/plain": [
              "<matplotlib.image.AxesImage at 0x7f76cc716bb0>"
            ]
          },
          "metadata": {},
          "execution_count": 66
        },
        {
          "output_type": "display_data",
          "data": {
            "text/plain": [
              "<Figure size 432x288 with 1 Axes>"
            ],
            "image/png": "[encoded data removed]"
          },
          "metadata": {
            "needs_background": "light"
          }
        }
      ]
    },
    {
      "cell_type": "markdown",
      "source": [
        "**Nice !! I stop here**"
      ],
      "metadata": {
        "id": "iJBC8jVQbiWq"
      }
    },
    {
      "cell_type": "code",
      "source": [],
      "metadata": {
        "id": "OAyhEzjBbnxz"
      },
      "execution_count": null,
      "outputs": []
    }
  ]
}